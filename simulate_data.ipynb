{
 "cells": [
  {
   "cell_type": "code",
   "execution_count": 36,
   "id": "15f7aa4c",
   "metadata": {},
   "outputs": [],
   "source": [
    "import numpy as np\n",
    "import pandas as pd\n",
    "from scipy.integrate import solve_ivp\n",
    "from tqdm.notebook import tqdm\n",
    "import math"
   ]
  },
  {
   "cell_type": "code",
   "execution_count": 37,
   "id": "b88b92cf",
   "metadata": {},
   "outputs": [],
   "source": [
    "C_p = 4186\n",
    "A_container = 0.01\n",
    "m_initial = 0.1\n",
    "L_v = 2.26e6\n",
    "\n",
    "def mpemba_cooling_model(t, y, T_env, h_base, h_exponent, K_evap):\n",
    "    T, m = y[0], y[1]\n",
    "    if T<= -5 or m <= 0 : return [0.0, 0.0]\n",
    "    delta_T = np.maximum(T - T_env, 1e-6)\n",
    "    h_convection = h_base * math.pow(delta_T, h_exponent)\n",
    "    P_sat = 10**(8.07131 - (1730.63 / (233.426 + T))) if T > 0 else 0\n",
    "    dm_dt = -K_evap * P_sat\n",
    "    heat_loss_convection = h_convection * A_container * ( T - T_env )\n",
    "    heat_loss_evaporation = -L_v * dm_dt\n",
    "    total_heat_loss_rate = heat_loss_convection + heat_loss_evaporation\n",
    "    dT_dt = -total_heat_loss_rate / (m * C_p)\n",
    "    return [dT_dt, dm_dt]\n",
    "    "
   ]
  },
  {
   "cell_type": "code",
   "execution_count": 38,
   "id": "8f0a8c49",
   "metadata": {},
   "outputs": [],
   "source": [
    "def run_mpemba_simulation(T_initial, T_env, h_base, h_exponent, K_evap, time_limit=72000):\n",
    "    y_initial = [T_initial, m_initial]\n",
    "    sol = solve_ivp(\n",
    "        fun=mpemba_cooling_model, t_span=[0, time_limit], y0=y_initial,\n",
    "        args=(T_env, h_base, h_exponent, K_evap), dense_output=True\n",
    "    )\n",
    "    temperatures = sol.y[0]\n",
    "    times = sol.t\n",
    "    if np.all(temperatures > 0): return None\n",
    "    zero_cross_indices = np.where(temperatures <= 0)[0]\n",
    "    if len(zero_cross_indices) == 0: return None\n",
    "    first_zero_cross_idx = zero_cross_indices[0]\n",
    "    if first_zero_cross_idx == 0: return 0.0\n",
    "    t1, T1 = times[first_zero_cross_idx-1], temperatures[first_zero_cross_idx-1]\n",
    "    t2, T2 = times[first_zero_cross_idx], temperatures[first_zero_cross_idx]\n",
    "    if T2 - T1 == 0: return t1\n",
    "    return t1 + (0 - T1) * (t2 - t1) / (T2 - T1)"
   ]
  },
  {
   "cell_type": "code",
   "execution_count": 39,
   "id": "eec1c1ff",
   "metadata": {},
   "outputs": [
    {
     "name": "stdout",
     "output_type": "stream",
     "text": [
      "Simulation functions have been defined.\n"
     ]
    }
   ],
   "source": [
    "print(\"Simulation functions have been defined.\")"
   ]
  },
  {
   "cell_type": "code",
   "execution_count": 40,
   "id": "ea09c676",
   "metadata": {},
   "outputs": [
    {
     "name": "stdout",
     "output_type": "stream",
     "text": [
      "Running 4000 virtual experiments...\n"
     ]
    },
    {
     "data": {
      "application/vnd.jupyter.widget-view+json": {
       "model_id": "f98d53eaa765440f9181b634cb5f4143",
       "version_major": 2,
       "version_minor": 0
      },
      "text/plain": [
       "  0%|          | 0/4000 [00:00<?, ?it/s]"
      ]
     },
     "metadata": {},
     "output_type": "display_data"
    },
    {
     "name": "stdout",
     "output_type": "stream",
     "text": [
      "\n",
      " Dataset with 4000 valid samples saved to 'data/mpemba_data.csv'.\n"
     ]
    },
    {
     "data": {
      "text/html": [
       "<div>\n",
       "<style scoped>\n",
       "    .dataframe tbody tr th:only-of-type {\n",
       "        vertical-align: middle;\n",
       "    }\n",
       "\n",
       "    .dataframe tbody tr th {\n",
       "        vertical-align: top;\n",
       "    }\n",
       "\n",
       "    .dataframe thead th {\n",
       "        text-align: right;\n",
       "    }\n",
       "</style>\n",
       "<table border=\"1\" class=\"dataframe\">\n",
       "  <thead>\n",
       "    <tr style=\"text-align: right;\">\n",
       "      <th></th>\n",
       "      <th>T_initial</th>\n",
       "      <th>T_env</th>\n",
       "      <th>h_base</th>\n",
       "      <th>h_exponent</th>\n",
       "      <th>K_evap</th>\n",
       "      <th>freezing_time</th>\n",
       "    </tr>\n",
       "  </thead>\n",
       "  <tbody>\n",
       "    <tr>\n",
       "      <th>0</th>\n",
       "      <td>9.501789</td>\n",
       "      <td>-11.955739</td>\n",
       "      <td>28.678967</td>\n",
       "      <td>0.228007</td>\n",
       "      <td>6.177706e-07</td>\n",
       "      <td>4.682257</td>\n",
       "    </tr>\n",
       "    <tr>\n",
       "      <th>1</th>\n",
       "      <td>18.418519</td>\n",
       "      <td>-6.220414</td>\n",
       "      <td>16.323292</td>\n",
       "      <td>0.688970</td>\n",
       "      <td>1.473262e-07</td>\n",
       "      <td>9.237274</td>\n",
       "    </tr>\n",
       "    <tr>\n",
       "      <th>2</th>\n",
       "      <td>77.322935</td>\n",
       "      <td>-14.696642</td>\n",
       "      <td>45.946000</td>\n",
       "      <td>1.429501</td>\n",
       "      <td>8.842334e-08</td>\n",
       "      <td>0.215854</td>\n",
       "    </tr>\n",
       "    <tr>\n",
       "      <th>3</th>\n",
       "      <td>54.065870</td>\n",
       "      <td>-15.431051</td>\n",
       "      <td>11.556988</td>\n",
       "      <td>1.074129</td>\n",
       "      <td>6.718782e-07</td>\n",
       "      <td>2.077791</td>\n",
       "    </tr>\n",
       "    <tr>\n",
       "      <th>4</th>\n",
       "      <td>63.550198</td>\n",
       "      <td>-17.476624</td>\n",
       "      <td>24.328732</td>\n",
       "      <td>1.096033</td>\n",
       "      <td>6.433669e-07</td>\n",
       "      <td>0.872834</td>\n",
       "    </tr>\n",
       "  </tbody>\n",
       "</table>\n",
       "</div>"
      ],
      "text/plain": [
       "   T_initial      T_env     h_base  h_exponent        K_evap  freezing_time\n",
       "0   9.501789 -11.955739  28.678967    0.228007  6.177706e-07       4.682257\n",
       "1  18.418519  -6.220414  16.323292    0.688970  1.473262e-07       9.237274\n",
       "2  77.322935 -14.696642  45.946000    1.429501  8.842334e-08       0.215854\n",
       "3  54.065870 -15.431051  11.556988    1.074129  6.718782e-07       2.077791\n",
       "4  63.550198 -17.476624  24.328732    1.096033  6.433669e-07       0.872834"
      ]
     },
     "execution_count": 40,
     "metadata": {},
     "output_type": "execute_result"
    }
   ],
   "source": [
    "num_samples = 4000\n",
    "results = []\n",
    "\n",
    "print(f\"Running {num_samples} virtual experiments...\")\n",
    "for _ in tqdm(range(num_samples)):\n",
    "    T_initial = np.random.uniform(5, 95)\n",
    "    T_env = np.random.uniform(-20, -5)\n",
    "    h_base = np.random.uniform(10, 50)\n",
    "    h_exponent = np.random.uniform(0.0, 1.5)\n",
    "    K_evap = np.random.uniform(1e-8, 1e-6)\n",
    "    time_sec = run_mpemba_simulation(T_initial, T_env, h_base, h_exponent, K_evap)\n",
    "    if time_sec is not None and time_sec > 0:\n",
    "        results.append({\n",
    "            'T_initial': T_initial, 'T_env': T_env, 'h_base': h_base,\n",
    "            'h_exponent': h_exponent, 'K_evap': K_evap,\n",
    "            'freezing_time': time_sec / 60 # convert to minutes\n",
    "        })\n",
    "\n",
    "df_mpemba = pd.DataFrame(results)\n",
    "df_mpemba.to_csv('data/mpemba_data.csv', index=False)\n",
    "print(f\"\\n Dataset with {len(df_mpemba)} valid samples saved to 'data/mpemba_data.csv'.\")\n",
    "df_mpemba.head()"
   ]
  }
 ],
 "metadata": {
  "kernelspec": {
   "display_name": "Python 3",
   "language": "python",
   "name": "python3"
  },
  "language_info": {
   "codemirror_mode": {
    "name": "ipython",
    "version": 3
   },
   "file_extension": ".py",
   "mimetype": "text/x-python",
   "name": "python",
   "nbconvert_exporter": "python",
   "pygments_lexer": "ipython3",
   "version": "3.13.3"
  }
 },
 "nbformat": 4,
 "nbformat_minor": 5
}
