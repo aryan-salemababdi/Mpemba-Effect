{
 "cells": [
  {
   "cell_type": "code",
   "execution_count": 9,
   "id": "db155950",
   "metadata": {},
   "outputs": [],
   "source": [
    "import pandas as pd\n",
    "import torch\n",
    "from kan import KAN\n",
    "from sklearn.model_selection import train_test_split\n",
    "import os"
   ]
  },
  {
   "cell_type": "code",
   "execution_count": 10,
   "id": "4499cb53",
   "metadata": {},
   "outputs": [
    {
     "name": "stdout",
     "output_type": "stream",
     "text": [
      "Loading dataset...\n"
     ]
    }
   ],
   "source": [
    "print(\"Loading dataset...\")\n",
    "data_path = 'data/mpemba_data.csv'\n",
    "if not os.path.exists(data_path):\n",
    "    print(f\"Error: File {data_path} not found.\")\n",
    "    print(\"Please run the notebook '1_simulate_data.ipynb' first.\")\n",
    "else:\n",
    "    df = pd.read_csv(data_path)\n",
    "    df.dropna(inplace=True)\n",
    "    features = ['T_initial', 'T_env', 'h_base', 'h_exponent', 'K_evap']\n",
    "    target = 'freezing_time'"
   ]
  },
  {
   "cell_type": "code",
   "execution_count": 11,
   "id": "b9736773",
   "metadata": {},
   "outputs": [
    {
     "name": "stdout",
     "output_type": "stream",
     "text": [
      "Dataset successfully loaded and prepared.\n"
     ]
    }
   ],
   "source": [
    "X = df[features].values\n",
    "y = df[target].values.reshape(-1, 1)\n",
    "\n",
    "X_train, X_test, y_train, y_test = train_test_split(X, y, test_size=0.2, random_state=42)\n",
    "\n",
    "dataset = {\n",
    "    'train_input': torch.from_numpy(X_train).float(),\n",
    "    'train_label': torch.from_numpy(y_train).float(),\n",
    "    'test_input': torch.from_numpy(X_test).float(),\n",
    "    'test_label': torch.from_numpy(y_test).float()\n",
    "}\n",
    "print(\"Dataset successfully loaded and prepared.\")"
   ]
  },
  {
   "cell_type": "code",
   "execution_count": 12,
   "id": "f9bfa743",
   "metadata": {},
   "outputs": [
    {
     "name": "stdout",
     "output_type": "stream",
     "text": [
      "Building KAN model...\n",
      "checkpoint directory created: ./model\n",
      "saving model version 0.0\n",
      "Training KAN model... (this may take a few minutes)\n"
     ]
    },
    {
     "name": "stderr",
     "output_type": "stream",
     "text": [
      "| train_loss: 5.75e-01 | test_loss: 6.30e-01 | reg: 4.02e+01 | : 100%|█| 100/100 [00:28<00:00,  3.56"
     ]
    },
    {
     "name": "stdout",
     "output_type": "stream",
     "text": [
      "saving model version 0.1\n",
      "KAN model training completed.\n"
     ]
    },
    {
     "name": "stderr",
     "output_type": "stream",
     "text": [
      "\n"
     ]
    }
   ],
   "source": [
    "print(\"Building KAN model...\")\n",
    "model = KAN(width=[len(features), 5, 1], grid=5, k=3, seed=42)\n",
    "\n",
    "print(\"Training KAN model... (this may take a few minutes)\")\n",
    "model.fit(dataset, opt=\"LBFGS\", steps=100, lamb=0.01)\n",
    "print(\"KAN model training completed.\")"
   ]
  },
  {
   "cell_type": "code",
   "execution_count": 13,
   "id": "6e0a3144",
   "metadata": {},
   "outputs": [
    {
     "name": "stdout",
     "output_type": "stream",
     "text": [
      "Pruning model to identify the most important relationships...\n",
      "saving model version 0.2\n",
      "Plotting the final model...\n",
      "\n",
      "Final plot saved to 'results/kan_pruned_plot.png'.\n",
      "Please review the plot to see which physical parameters (inputs) have the strongest relationship with freezing time.\n"
     ]
    },
    {
     "data": {
      "image/png": "[encoded data removed]",
      "text/plain": [
       "<Figure size 500x400 with 23 Axes>"
      ]
     },
     "metadata": {},
     "output_type": "display_data"
    }
   ],
   "source": [
    "print(\"Pruning model to identify the most important relationships...\")\n",
    "pruned_model = model.prune()\n",
    "\n",
    "print(\"Plotting the final model...\")\n",
    "pruned_model.plot(folder=\"results\")\n",
    "\n",
    "print(\"\\nFinal plot saved to 'results/kan_pruned_plot.png'.\")\n",
    "print(\"Please review the plot to see which physical parameters (inputs) have the strongest relationship with freezing time.\")"
   ]
  },
  {
   "cell_type": "code",
   "execution_count": 14,
   "id": "b75e2943",
   "metadata": {},
   "outputs": [
    {
     "name": "stdout",
     "output_type": "stream",
     "text": [
      "Attempting to extract a symbolic formula from the pruned model...\n",
      "\n",
      "\n",
      "Automatic symbolic extraction failed: name 'x1' is not defined\n",
      "This is normal for complex problems.\n",
      "The main analysis is based on the pruned model plot, which correctly identifies key factors.\n"
     ]
    }
   ],
   "source": [
    "print(\"Attempting to extract a symbolic formula from the pruned model...\")\n",
    "\n",
    "try:\n",
    "    final_formula, _ = pruned_model.symbolic_formula()\n",
    "    \n",
    "    print(\"\\n\\n\" + \"=\"*50)\n",
    "    print(\"Symbolic formula discovered by KAN\")\n",
    "    print(\"\\n     freezing_time ≈\")\n",
    "    print(f\"        {final_formula}\")\n",
    "    print(\"\\n\" + \"=\"*50)\n",
    "    print(\"\\nFormula analysis:\")\n",
    "    print(\"  - x_1: T_initial\")\n",
    "    print(\"  - x_2: T_env\")\n",
    "    print(\"  - x_3: h_base\")\n",
    "    print(\"  - x_4: h_exponent\")\n",
    "    print(\"  - x_5: K_evap\")\n",
    "    \n",
    "except Exception as e:\n",
    "    print(f\"\\n\\nAutomatic symbolic extraction failed: {e}\")\n",
    "    print(\"This is normal for complex problems.\")\n",
    "    print(\"The main analysis is based on the pruned model plot, which correctly identifies key factors.\")"
   ]
  },
  {
   "cell_type": "code",
   "execution_count": 15,
   "id": "d3a93a29",
   "metadata": {},
   "outputs": [
    {
     "name": "stdout",
     "output_type": "stream",
     "text": [
      "\n",
      "Attempting to find a formula in a simpler subspace...\n",
      "checkpoint directory created: ./model\n",
      "saving model version 0.0\n",
      "Training the simplified model...\n"
     ]
    },
    {
     "name": "stderr",
     "output_type": "stream",
     "text": [
      "| train_loss: 3.66e+00 | test_loss: 3.51e+00 | reg: 8.31e+00 | : 100%|█| 50/50 [00:03<00:00, 14.48it"
     ]
    },
    {
     "name": "stdout",
     "output_type": "stream",
     "text": [
      "saving model version 0.1\n",
      "\n",
      "Even in this simple subspace, no clean algebraic formula was found: name 'x1' is not defined\n"
     ]
    },
    {
     "name": "stderr",
     "output_type": "stream",
     "text": [
      "\n"
     ]
    }
   ],
   "source": [
    "print(\"\\nAttempting to find a formula in a simpler subspace...\")\n",
    "\n",
    "X_simple = df[['T_initial', 'h_exponent']].values\n",
    "y_simple = df['freezing_time'].values.reshape(-1, 1)\n",
    "\n",
    "X_train_s, X_test_s, y_train_s, y_test_s = train_test_split(X_simple, y_simple, test_size=0.2, random_state=42)\n",
    "\n",
    "dataset_simple = {\n",
    "    'train_input': torch.from_numpy(X_train_s).float(),\n",
    "    'train_label': torch.from_numpy(y_train_s).float(),\n",
    "    'test_input': torch.from_numpy(X_test_s).float(),\n",
    "    'test_label': torch.from_numpy(y_test_s).float()\n",
    "}\n",
    "\n",
    "model_simple = KAN(width=[2, 1], grid=5, k=3, seed=42)\n",
    "\n",
    "print(\"Training the simplified model...\")\n",
    "model_simple.fit(dataset_simple, opt=\"LBFGS\", steps=50, lamb=0.01)\n",
    "\n",
    "try:\n",
    "    formula, _ = model_simple.symbolic_formula()\n",
    "    print(\"\\n\" + \"=\"*50)\n",
    "    print(\"Approximate formula for T_initial (x_1) and h_exponent (x_2)\")\n",
    "    print(f\"\\n     freezing_time ≈ {formula}\")\n",
    "    print(\"\\n\" + \"=\"*50)\n",
    "except Exception as e:\n",
    "    print(f\"\\nEven in this simple subspace, no clean algebraic formula was found: {e}\")"
   ]
  }
 ],
 "metadata": {
  "kernelspec": {
   "display_name": "Python 3",
   "language": "python",
   "name": "python3"
  },
  "language_info": {
   "codemirror_mode": {
    "name": "ipython",
    "version": 3
   },
   "file_extension": ".py",
   "mimetype": "text/x-python",
   "name": "python",
   "nbconvert_exporter": "python",
   "pygments_lexer": "ipython3",
   "version": "3.13.3"
  }
 },
 "nbformat": 4,
 "nbformat_minor": 5
}
